{
 "cells": [
  {
   "cell_type": "code",
   "execution_count": null,
   "metadata": {},
   "outputs": [
    {
     "name": "stderr",
     "output_type": "stream",
     "text": [
      " * Running on http://localhost:9000/ (Press CTRL+C to quit)\n",
      "127.0.0.1 - - [03/Feb/2019 21:24:15] \"\u001b[37mGET / HTTP/1.1\u001b[0m\" 200 -\n"
     ]
    },
    {
     "name": "stdout",
     "output_type": "stream",
     "text": [
      "empty\n",
      "<class 'int'> 5\n",
      "16\n"
     ]
    }
   ],
   "source": [
    "from werkzeug.wrappers import Request, Response\n",
    "from flask import Flask\n",
    "from flask import request\n",
    "from flask import jsonify\n",
    "import pymongo\n",
    "from pymongo import *\n",
    "import datetime\n",
    "from dateutil.relativedelta import *\n",
    "\n",
    "app = Flask(__name__)\n",
    "\n",
    "myclient = pymongo.MongoClient(\"mongodb://localhost:27017/\")\n",
    "mydb = myclient[\"mydatabase\"]\n",
    "test_collection = mydb['data']\n",
    "\n",
    "\n",
    "\n",
    "def project_wise_sentiment_comparision_time_wise(project_name = 'Project A',option = 'monthly'):\n",
    "    '''\n",
    "    It will return sentiment comparision of last 2 months for selected project.\n",
    "    If user doesn't choose any project then by defaultit will show comparision for project A.\n",
    "    If user dosn't choose any option the it will be monthly by default.\n",
    "    '''\n",
    "    \n",
    "    if(option == 'monthly'):\n",
    "        \n",
    "        previous_date = (datetime.datetime.today() - relativedelta(month=2))\n",
    "        \n",
    "        result = list(test_collection.aggregate([\n",
    "        {'$match' : {'$and' : [{'date' :  {'$lt' : previous_date}}, {'project_name' : project_name}   ]}   },\n",
    "\n",
    "        {'$group' : {\n",
    "            '_id' : { 'month' : { '$month': \"$date\" } , 'sentiment' : '$sentiment'} , 'count' : {'$sum' : 1}} }\n",
    "        ]))\n",
    "    elif(option == 'yearly'):\n",
    "        previous_date = (datetime.datetime.today() - relativedelta(years=2))\n",
    "        result = list(test_collection.aggregate([\n",
    "        {'$match' : {'$and' : [{'date' :  {'$lt' : previous_date}}, {'project_name' : project_name}   ]}   },\n",
    "\n",
    "        {'$group' : {\n",
    "            '_id' : { 'year' : { '$year': \"$date\" } , 'sentiment' : '$sentiment'} , 'count' : {'$sum' : 1}} }\n",
    "        ]))\n",
    "        \n",
    "    elif(option == 'weekly'):\n",
    "        previous_date = (datetime.datetime.today() - relativedelta(weeks=2))\n",
    "        result = list(test_collection.aggregate([\n",
    "        {'$match' : {'$and' : [{'date' :  {'$lt' : previous_date}}, {'project_name' : project_name}   ]}   },\n",
    "\n",
    "        {'$group' : {\n",
    "            '_id' : { 'week' : { '$week': \"$date\" } , 'sentiment' : '$sentiment'} , 'count' : {'$sum' : 1}} }\n",
    "\n",
    "        ]))\n",
    "        \n",
    "    return result\n",
    "\n",
    "def category_wise_sentiment_comparision_time_wise(project_name = 'Project A',option = 'monthly'):\n",
    "    '''\n",
    "    It will return sentiment comparision of last 2 months for selected project.\n",
    "    If user doesn't choose any project then by defaultit will show comparision for project A.\n",
    "    If user dosn't choose any option the it will be monthly by default.\n",
    "    '''\n",
    "    \n",
    "    if(option == 'monthly'):\n",
    "        \n",
    "        previous_date = (datetime.datetime.today() - relativedelta(month=2))\n",
    "        \n",
    "        result = list(test_collection.aggregate([\n",
    "        {'$match' : {'$and' : [{'date' :  {'$lt' : previous_date}}, {'project_name' : project_name}   ]}   },\n",
    "\n",
    "        {'$group' : {\n",
    "            '_id' : { 'category': '$category', 'month' : { '$month': \"$date\" } , 'sentiment' : '$sentiment'} , 'count' : {'$sum' : 1}} }\n",
    "        ]))\n",
    "    elif(option == 'yearly'):\n",
    "        previous_date = (datetime.datetime.today() - relativedelta(years=2))\n",
    "        result = list(test_collection.aggregate([\n",
    "        {'$match' : {'$and' : [{'date' :  {'$lt' : previous_date}}, {'project_name' : project_name}   ]}   },\n",
    "\n",
    "        {'$group' : {\n",
    "            '_id' : { 'category': '$category', 'year' : { '$year': \"$date\" } , 'sentiment' : '$sentiment'} , 'count' : {'$sum' : 1}} }\n",
    "        ]))\n",
    "        \n",
    "    elif(option == 'weekly'):\n",
    "        previous_date = (datetime.datetime.today() - relativedelta(weeks=2))\n",
    "        result = list(test_collection.aggregate([\n",
    "        {'$match' : {'$and' : [{'date' :  {'$lt' : previous_date}}, {'project_name' : project_name}   ]}   },\n",
    "\n",
    "        {'$group' : {\n",
    "            '_id' : { 'category': '$category', 'week' : { '$week': \"$date\" } , 'sentiment' : '$sentiment'} , 'count' : {'$sum' : 1}} }\n",
    "\n",
    "        ]))\n",
    "        \n",
    "    return result\n",
    "\n",
    "\n",
    "\n",
    "@app.route(\"/\")\n",
    "def dashboard():\n",
    "    \n",
    "    page_no = request.args.get('page')\n",
    "    limit = request.args.get('limit')\n",
    "    \n",
    "    if page_no is None:\n",
    "        print('empty')\n",
    "        page_no = 0\n",
    "        limit = 5\n",
    "    print(type(page_no),limit)\n",
    "    total = test_collection.count_documents({})\n",
    "    print(total)\n",
    "    #print('LAST id at the first',last_id)\n",
    "    \n",
    "    #page  1\n",
    "    if page_no == 0:\n",
    "        res = list(test_collection.find({},{'_id':0,'Message':1}).skip(page_no*5).limit(5))\n",
    "\n",
    "    else:\n",
    "        res = list(test_collection.find({},{'_id':0,'Message':1}).skip(page_no*5).limit(5))\n",
    "    return jsonify({'total':total,'result':res})\n",
    "\n",
    "\n",
    "@app.route(\"/sentiment\")\n",
    "def sentiment():\n",
    "\n",
    "    return 'sentiment.html'\n",
    "\n",
    "\n",
    "@app.route(\"/action\")\n",
    "def action():\n",
    "\n",
    "    return 'action.html'\n",
    "\n",
    "if __name__ == '__main__':\n",
    "    from werkzeug.serving import run_simple\n",
    "    run_simple('localhost', 9000, app)"
   ]
  },
  {
   "cell_type": "code",
   "execution_count": null,
   "metadata": {},
   "outputs": [],
   "source": [
    "test_collection.ensure_index()"
   ]
  },
  {
   "cell_type": "code",
   "execution_count": 17,
   "metadata": {},
   "outputs": [],
   "source": [
    "last_id = list(test_collection.find({'_id' : {'$gt' : o_last_id}},{'_id':1}).limit(5))"
   ]
  },
  {
   "cell_type": "code",
   "execution_count": 19,
   "metadata": {},
   "outputs": [
    {
     "data": {
      "text/plain": [
       "{'_id': ObjectId('5c55eb13e392f02028db47ab')}"
      ]
     },
     "execution_count": 19,
     "metadata": {},
     "output_type": "execute_result"
    }
   ],
   "source": [
    "last_id[4]"
   ]
  },
  {
   "cell_type": "code",
   "execution_count": 6,
   "metadata": {},
   "outputs": [],
   "source": [
    "last_id = test_collection.find_one({},{'_id':1})"
   ]
  },
  {
   "cell_type": "code",
   "execution_count": 68,
   "metadata": {},
   "outputs": [
    {
     "data": {
      "text/plain": [
       "ObjectId('5c55cf1be392f02028db47a2')"
      ]
     },
     "execution_count": 68,
     "metadata": {},
     "output_type": "execute_result"
    }
   ],
   "source": [
    "last_id['_id']"
   ]
  },
  {
   "cell_type": "code",
   "execution_count": 16,
   "metadata": {},
   "outputs": [],
   "source": [
    "o_last_id = last_id_list[4]['_id']"
   ]
  },
  {
   "cell_type": "code",
   "execution_count": 14,
   "metadata": {},
   "outputs": [],
   "source": [
    "last_id_list = list(test_collection.find({},{'_id':1}))"
   ]
  },
  {
   "cell_type": "code",
   "execution_count": 2,
   "metadata": {},
   "outputs": [],
   "source": [
    "import pymongo\n",
    "\n",
    "from pymongo import *\n",
    "import datetime\n",
    "\n",
    "from dateutil.relativedelta import *\n",
    "\n",
    "myclient = pymongo.MongoClient(\"mongodb://localhost:27017/\")\n",
    "\n",
    "mydb = myclient[\"mydatabase\"]\n",
    "\n",
    "test_collection = mydb['data']"
   ]
  },
  {
   "cell_type": "code",
   "execution_count": 9,
   "metadata": {},
   "outputs": [],
   "source": [
    "previous_date = (datetime.datetime.today() - relativedelta(weeks=2))"
   ]
  },
  {
   "cell_type": "code",
   "execution_count": 22,
   "metadata": {},
   "outputs": [],
   "source": [
    "def project_wise_sentiment_comparision_time_wise(project_name = 'Project A',option = 'monthly'):\n",
    "    '''\n",
    "    It will return sentiment comparision of last 2 months for selected project.\n",
    "    If user doesn't choose any project then by defaultit will show comparision for project A.\n",
    "    If user dosn't choose any option the it will be monthly by default.\n",
    "    '''\n",
    "    \n",
    "    if(option == 'monthly'):\n",
    "        \n",
    "        previous_date = (datetime.datetime.today() - relativedelta(month=2))\n",
    "        \n",
    "        result = list(test_collection.aggregate([\n",
    "        {'$match' : {'$and' : [{'date' :  {'$lt' : previous_date}}, {'project_name' : project_name}   ]}   },\n",
    "\n",
    "        {'$group' : {\n",
    "            '_id' : { 'month' : { '$month': \"$date\" } , 'sentiment' : '$sentiment'} , 'count' : {'$sum' : 1}} }\n",
    "        ]))\n",
    "    elif(option == 'yearly'):\n",
    "        previous_date = (datetime.datetime.today() - relativedelta(years=2))\n",
    "        result = list(test_collection.aggregate([\n",
    "        {'$match' : {'$and' : [{'date' :  {'$lt' : previous_date}}, {'project_name' : project_name}   ]}   },\n",
    "\n",
    "        {'$group' : {\n",
    "            '_id' : { 'year' : { '$year': \"$date\" } , 'sentiment' : '$sentiment'} , 'count' : {'$sum' : 1}} }\n",
    "        ]))\n",
    "        \n",
    "    elif(option == 'weekly'):\n",
    "        previous_date = (datetime.datetime.today() - relativedelta(weeks=2))\n",
    "        result = list(test_collection.aggregate([\n",
    "        {'$match' : {'$and' : [{'date' :  {'$lt' : previous_date}}, {'project_name' : project_name}   ]}   },\n",
    "\n",
    "        {'$group' : {\n",
    "            '_id' : { 'week' : { '$week': \"$date\" } , 'sentiment' : '$sentiment'} , 'count' : {'$sum' : 1}} }\n",
    "\n",
    "        ]))\n",
    "        \n",
    "    return result\n",
    "\n",
    "def category_wise_sentiment_comparision_time_wise(project_name = 'Project A',option = 'monthly'):\n",
    "    '''\n",
    "    It will return sentiment comparision of last 2 months for selected project.\n",
    "    If user doesn't choose any project then by defaultit will show comparision for project A.\n",
    "    If user dosn't choose any option the it will be monthly by default.\n",
    "    '''\n",
    "    \n",
    "    if(option == 'monthly'):\n",
    "        \n",
    "        previous_date = (datetime.datetime.today() - relativedelta(month=2))\n",
    "        \n",
    "        result = list(test_collection.aggregate([\n",
    "        {'$match' : {'$and' : [{'date' :  {'$lt' : previous_date}}, {'project_name' : project_name}   ]}   },\n",
    "\n",
    "        {'$group' : {\n",
    "            '_id' : { 'category': '$category', 'month' : { '$month': \"$date\" } , 'sentiment' : '$sentiment'} , 'count' : {'$sum' : 1}} }\n",
    "        ]))\n",
    "    elif(option == 'yearly'):\n",
    "        previous_date = (datetime.datetime.today() - relativedelta(years=2))\n",
    "        result = list(test_collection.aggregate([\n",
    "        {'$match' : {'$and' : [{'date' :  {'$lt' : previous_date}}, {'project_name' : project_name}   ]}   },\n",
    "\n",
    "        {'$group' : {\n",
    "            '_id' : { 'category': '$category', 'year' : { '$year': \"$date\" } , 'sentiment' : '$sentiment'} , 'count' : {'$sum' : 1}} }\n",
    "        ]))\n",
    "        \n",
    "    elif(option == 'weekly'):\n",
    "        previous_date = (datetime.datetime.today() - relativedelta(weeks=2))\n",
    "        result = list(test_collection.aggregate([\n",
    "        {'$match' : {'$and' : [{'date' :  {'$lt' : previous_date}}, {'project_name' : project_name}   ]}   },\n",
    "\n",
    "        {'$group' : {\n",
    "            '_id' : { 'category': '$category', 'week' : { '$week': \"$date\" } , 'sentiment' : '$sentiment'} , 'count' : {'$sum' : 1}} }\n",
    "\n",
    "        ]))\n",
    "        \n",
    "    return result\n"
   ]
  },
  {
   "cell_type": "raw",
   "metadata": {},
   "source": [
    "?total=30&limit=5&page=1"
   ]
  },
  {
   "cell_type": "code",
   "execution_count": 3,
   "metadata": {},
   "outputs": [
    {
     "data": {
      "text/plain": [
       "6.0"
      ]
     },
     "execution_count": 3,
     "metadata": {},
     "output_type": "execute_result"
    }
   ],
   "source": [
    "30/5"
   ]
  },
  {
   "cell_type": "code",
   "execution_count": 8,
   "metadata": {},
   "outputs": [
    {
     "data": {
      "text/plain": [
       "[{'Message': 'Lets start discussing about the next step of the Milestone'},\n",
       " {'Message': 'discussion was nice so far we have updated you about the new plan that we have in mind.'},\n",
       " {'Message': 'We have completed the first part of the milestone, plese review it and let us know.'},\n",
       " {'Message': 'Thank you, we have reviewd the design of the first part of the milestone, but we need to change few things, which is not ok.'},\n",
       " {'Message': 'Lets start discussing about the next step of the Milestone'},\n",
       " {'Message': 'discussion was nice so far we have updated you about the new plan that we have in mind.'},\n",
       " {'Message': 'We have completed the first part of the milestone, plese review it and let us know.'},\n",
       " {'Message': 'Thank you, we have reviewd the design of the first part of the milestone, but we need to change few things, which is not ok.'},\n",
       " {'Message': 'We can discuss this over a call tommorrow.'},\n",
       " {'Message': 'Lets start discussing about the next step of the Milestone'},\n",
       " {'Message': 'discussion was nice so far we have updated you about the new plan that we have in mind.'},\n",
       " {'Message': 'We have completed the first part of the milestone, plese review it and let us know.'},\n",
       " {'Message': 'Thank you, we have reviewd the design of the first part of the milestone, but we need to change few things, which is not ok.'},\n",
       " {'Message': 'Lets start discussing about the next step of the Milestone'},\n",
       " {'Message': 'discussion was nice so far we have updated you about the new plan that we have in mind.'},\n",
       " {'Message': 'We have completed the first part of the milestone, plese review it and let us know.'}]"
      ]
     },
     "execution_count": 8,
     "metadata": {},
     "output_type": "execute_result"
    }
   ],
   "source": [
    "list(test_collection.find({},{'_id':0,'Message':1}))"
   ]
  },
  {
   "cell_type": "code",
   "execution_count": 40,
   "metadata": {},
   "outputs": [],
   "source": [
    "pno = 3"
   ]
  },
  {
   "cell_type": "code",
   "execution_count": 6,
   "metadata": {},
   "outputs": [
    {
     "ename": "NameError",
     "evalue": "name 'pno' is not defined",
     "output_type": "error",
     "traceback": [
      "\u001b[1;31m---------------------------------------------------------------------------\u001b[0m",
      "\u001b[1;31mNameError\u001b[0m                                 Traceback (most recent call last)",
      "\u001b[1;32m<ipython-input-6-60cb1f6f9dcc>\u001b[0m in \u001b[0;36m<module>\u001b[1;34m()\u001b[0m\n\u001b[1;32m----> 1\u001b[1;33m \u001b[1;32mif\u001b[0m \u001b[1;32mnot\u001b[0m \u001b[0mpno\u001b[0m\u001b[1;33m:\u001b[0m\u001b[1;33m\u001b[0m\u001b[0m\n\u001b[0m\u001b[0;32m      2\u001b[0m     \u001b[0mpno\u001b[0m \u001b[1;33m=\u001b[0m \u001b[1;36m0\u001b[0m\u001b[1;33m\u001b[0m\u001b[0m\n\u001b[0;32m      3\u001b[0m     \u001b[0mprint\u001b[0m\u001b[1;33m(\u001b[0m\u001b[0mpno\u001b[0m\u001b[1;33m)\u001b[0m\u001b[1;33m\u001b[0m\u001b[0m\n",
      "\u001b[1;31mNameError\u001b[0m: name 'pno' is not defined"
     ]
    }
   ],
   "source": [
    "if not pno:\n",
    "    pno = 0\n",
    "    print(pno)"
   ]
  },
  {
   "cell_type": "code",
   "execution_count": 42,
   "metadata": {},
   "outputs": [
    {
     "data": {
      "text/plain": [
       "[{'Message': 'We have completed the first part of the milestone, plese review it and let us know.'}]"
      ]
     },
     "execution_count": 42,
     "metadata": {},
     "output_type": "execute_result"
    }
   ],
   "source": [
    "res"
   ]
  },
  {
   "cell_type": "code",
   "execution_count": null,
   "metadata": {},
   "outputs": [],
   "source": []
  }
 ],
 "metadata": {
  "kernelspec": {
   "display_name": "Python 3",
   "language": "python",
   "name": "python3"
  },
  "language_info": {
   "codemirror_mode": {
    "name": "ipython",
    "version": 3
   },
   "file_extension": ".py",
   "mimetype": "text/x-python",
   "name": "python",
   "nbconvert_exporter": "python",
   "pygments_lexer": "ipython3",
   "version": "3.5.6"
  }
 },
 "nbformat": 4,
 "nbformat_minor": 2
}
