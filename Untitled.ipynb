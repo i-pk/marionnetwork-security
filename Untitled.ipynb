{
 "cells": [
  {
   "cell_type": "code",
   "execution_count": 266,
   "metadata": {},
   "outputs": [],
   "source": [
    "from werkzeug.wrappers import Request, Response\n",
    "from flask import Flask\n",
    "from flask import request\n",
    "app = Flask(__name__)\n",
    "\n",
    "@app.route(\"/\")\n",
    "def dashboard():\n",
    "    \n",
    "    #page = request.args.get('page')\n",
    "    #limit = request.args.get('limit')\n",
    "    # total = 50,limit = 10,page = 1\n",
    "    '''total = test_collection.count_documents({})\n",
    "    print(total)\n",
    "    res = list(test_collection.find({'_id' : {'$gt' : last_id}},{'_id':0,'Message':1}).limit(5))\n",
    "    print(res)'''\n",
    "    \n",
    "    \n",
    "    return 'dashboard.html'\n",
    "\n",
    "\n",
    "@app.route(\"/sentiment\")\n",
    "def sentiment():\n",
    "\n",
    "    return 'sentiment.html'\n",
    "\n",
    "\n",
    "@app.route(\"/action\")\n",
    "def action():\n",
    "\n",
    "    return 'action.html'\n",
    "\n",
    "\n",
    "\n",
    "if __name__ == '__main__':\n",
    "    from werkzeug.serving import run_simple\n",
    "    run_simple('localhost', 9000, app)"
   ]
  },
  {
   "cell_type": "code",
   "execution_count": 1,
   "metadata": {},
   "outputs": [],
   "source": [
    "import pymongo\n",
    "from dateutil.relativedelta import relativedelta\n",
    "from pymongo import *\n",
    "import datetime"
   ]
  },
  {
   "cell_type": "code",
   "execution_count": 5,
   "metadata": {},
   "outputs": [],
   "source": [
    "myclient = pymongo.MongoClient(\"mongodb://localhost:27017/\")\n",
    "\n",
    "mydb = myclient[\"mydatabase\"]\n",
    "\n",
    "test_collection = mydb['data']"
   ]
  },
  {
   "cell_type": "code",
   "execution_count": 227,
   "metadata": {},
   "outputs": [],
   "source": [
    "data = [\n",
    "    {'project_name' : 'Project C' , 'Message' : 'Lets start discussing about the next step of the Milestone' , \n",
    "     'category' : ['discussion'] , 'keywords' : [['discussing']], 'sentiment' : 0 , 'date' : datetime.datetime.strptime(\"2018-07-02\", \"%Y-%m-%d\")},\n",
    "    {'project_name' : 'Project C' , 'Message' : 'discussion was nice so far we have updated you about the new plan that we have in mind.' , \n",
    "     'category' : ['discussion','update'] , 'keywords' : [['discussing'],['updated','plan']], 'sentiment' : 1 , 'date' : datetime.datetime.strptime(\"2018-07-12\", \"%Y-%m-%d\")},\n",
    "    {'project_name' : 'Project C' , 'Message' : 'We have completed the first part of the milestone, plese review it and let us know.' , \n",
    "     'category' : ['update'] , 'keywords' : [['completed']], 'sentiment' : 1 , 'date' : datetime.datetime.strptime(\"2018-08-01\", \"%Y-%m-%d\")},\n",
    "    {'project_name' : 'Project C' , 'Message' : 'Thank you, we have reviewd the design of the first part of the milestone, but we need to change few things, which is not ok.' , \n",
    "     'category' : ['concern'] , 'keywords' : [['change','not ok']], 'sentiment' : -1 , 'date' : datetime.datetime.strptime(\"2018-08-12\", \"%Y-%m-%d\")},\n",
    "    {'project_name' : 'Project C' , 'Message' : 'Lets start discussing about the next step of the Milestone' , \n",
    "     'category' : ['discussion'] , 'keywords' : ['discussing'], 'sentiment' : 0 , 'date' : datetime.datetime.strptime(\"2018-09-01\", \"%Y-%m-%d\")},\n",
    "    {'project_name' : 'Project C' , 'Message' : 'discussion was nice so far we have updated you about the new plan that we have in mind.' , \n",
    "     'category' : ['discussion','update'] , 'keywords' : [['discussing'],['updated','plan']], 'sentiment' : 1 , 'date' : datetime.datetime.strptime(\"2018-09-20\", \"%Y-%m-%d\")},\n",
    "    {'project_name' : 'Project C' , 'Message' : 'We have completed the first part of the milestone, plese review it and let us know.' , \n",
    "     'category' : ['update'] , 'keywords' : [['completed']], 'sentiment' : 1 , 'date' : datetime.datetime.strptime(\"2018-09-27\", \"%Y-%m-%d\")}    \n",
    "]"
   ]
  },
  {
   "cell_type": "code",
   "execution_count": 228,
   "metadata": {},
   "outputs": [
    {
     "data": {
      "text/plain": [
       "<pymongo.results.InsertManyResult at 0x21a880a9d88>"
      ]
     },
     "execution_count": 228,
     "metadata": {},
     "output_type": "execute_result"
    }
   ],
   "source": [
    "test_collection.insert_many(data)"
   ]
  },
  {
   "cell_type": "code",
   "execution_count": 229,
   "metadata": {},
   "outputs": [],
   "source": [
    "g=list(test_collection.find({},{'_id':0,'date':1}))"
   ]
  },
  {
   "cell_type": "code",
   "execution_count": 230,
   "metadata": {
    "collapsed": true
   },
   "outputs": [
    {
     "data": {
      "text/plain": [
       "[{'date': datetime.datetime(2018, 12, 2, 0, 0)},\n",
       " {'date': datetime.datetime(2018, 12, 12, 0, 0)},\n",
       " {'date': datetime.datetime(2019, 1, 1, 0, 0)},\n",
       " {'date': datetime.datetime(2019, 1, 12, 0, 0)},\n",
       " {'date': datetime.datetime(2018, 9, 12, 0, 0)},\n",
       " {'date': datetime.datetime(2018, 9, 20, 0, 0)},\n",
       " {'date': datetime.datetime(2018, 9, 27, 0, 0)},\n",
       " {'date': datetime.datetime(2018, 10, 1, 0, 0)},\n",
       " {'date': datetime.datetime(2018, 10, 12, 0, 0)},\n",
       " {'date': datetime.datetime(2018, 7, 2, 0, 0)},\n",
       " {'date': datetime.datetime(2018, 7, 12, 0, 0)},\n",
       " {'date': datetime.datetime(2018, 8, 1, 0, 0)},\n",
       " {'date': datetime.datetime(2018, 8, 12, 0, 0)},\n",
       " {'date': datetime.datetime(2018, 9, 1, 0, 0)},\n",
       " {'date': datetime.datetime(2018, 9, 20, 0, 0)},\n",
       " {'date': datetime.datetime(2018, 9, 27, 0, 0)}]"
      ]
     },
     "execution_count": 230,
     "metadata": {},
     "output_type": "execute_result"
    }
   ],
   "source": [
    "g"
   ]
  },
  {
   "cell_type": "code",
   "execution_count": 147,
   "metadata": {},
   "outputs": [],
   "source": [
    "today = datetime.date.today()"
   ]
  },
  {
   "cell_type": "code",
   "execution_count": 201,
   "metadata": {},
   "outputs": [],
   "source": [
    "before_2_months = (datetime.datetime.today() - relativedelta(months=2))"
   ]
  },
  {
   "cell_type": "code",
   "execution_count": 202,
   "metadata": {},
   "outputs": [
    {
     "data": {
      "text/plain": [
       "datetime.datetime(2018, 12, 3, 0, 2, 49, 123024)"
      ]
     },
     "execution_count": 202,
     "metadata": {},
     "output_type": "execute_result"
    }
   ],
   "source": [
    "before_2_months"
   ]
  },
  {
   "cell_type": "code",
   "execution_count": 220,
   "metadata": {},
   "outputs": [],
   "source": [
    "test = datetime.datetime.strptime('2019-01-22','%Y-%m-%d')"
   ]
  },
  {
   "cell_type": "code",
   "execution_count": 221,
   "metadata": {},
   "outputs": [
    {
     "data": {
      "text/plain": [
       "datetime.datetime(2019, 1, 22, 0, 0)"
      ]
     },
     "execution_count": 221,
     "metadata": {},
     "output_type": "execute_result"
    }
   ],
   "source": [
    "test"
   ]
  },
  {
   "cell_type": "code",
   "execution_count": 235,
   "metadata": {},
   "outputs": [],
   "source": [
    "project_name = 'Project C'\n",
    "result = list(test_collection.aggregate([\n",
    "    {'$match' : {'$and' : [{'date' :  {'$lt' : test}}, {'project_name' : project_name}   ]}   },\n",
    "    \n",
    "    {'$group' : {\n",
    "        '_id' : { 'month' : { '$month': \"$date\" } , 'sentiment' : '$sentiment'} , 'count' : {'$sum' : 1}} }\n",
    "]))"
   ]
  },
  {
   "cell_type": "code",
   "execution_count": 231,
   "metadata": {},
   "outputs": [],
   "source": [
    "result = list(test_collection.aggregate([\n",
    "    {'$match' : {'project_name' : project_name}  },\n",
    "    \n",
    "    {'$group' : {\n",
    "        '_id' : { 'month' : { '$month': \"$date\" } , 'sentiment' : '$sentiment'} , 'count' : {'$sum' : 1}} }\n",
    "]))"
   ]
  },
  {
   "cell_type": "code",
   "execution_count": 236,
   "metadata": {
    "collapsed": true
   },
   "outputs": [
    {
     "data": {
      "text/plain": [
       "[{'Message': 'Lets start discussing about the next step of the Milestone',\n",
       "  'sentiment': 0},\n",
       " {'Message': 'discussion was nice so far we have updated you about the new plan that we have in mind.',\n",
       "  'sentiment': 1},\n",
       " {'Message': 'We have completed the first part of the milestone, plese review it and let us know.',\n",
       "  'sentiment': 1},\n",
       " {'Message': 'Thank you, we have reviewd the design of the first part of the milestone, but we need to change few things, which is not ok.',\n",
       "  'sentiment': -1},\n",
       " {'Message': 'Lets start discussing about the next step of the Milestone',\n",
       "  'sentiment': 0},\n",
       " {'Message': 'discussion was nice so far we have updated you about the new plan that we have in mind.',\n",
       "  'sentiment': 1},\n",
       " {'Message': 'We have completed the first part of the milestone, plese review it and let us know.',\n",
       "  'sentiment': 1}]"
      ]
     },
     "execution_count": 236,
     "metadata": {},
     "output_type": "execute_result"
    }
   ],
   "source": [
    "list(test_collection.find({'project_name':project_name},{'_id':0,'Message':1,'sentiment':1}))"
   ]
  },
  {
   "cell_type": "code",
   "execution_count": null,
   "metadata": {},
   "outputs": [],
   "source": [
    "{a:1, b:1}\n",
    "{a:2, b:1}\n",
    "{a:2, b:2}\n",
    "{a:2, b:3}\n",
    "{a:3, b:1}\n",
    "\n",
    "So you do this for the range based pagination (page size of 2):\n",
    "find().sort({a:1, b:1}).limit(2)\n",
    "{a:1, b:1}\n",
    "{a:2, b:1}\n",
    "\n",
    "find({a:{$gt:2}, b:{$gt:1}}).sort({a:1, b:1}).limit(2)\n",
    "{a:2, b:2}\n",
    "{a:2, b:3}\n",
    "\n",
    "find({a:{$gt:2}, b:{$gt:3}}).sort({a:1, b:1}).limit(2)\n",
    "{a:3, b:1}"
   ]
  },
  {
   "cell_type": "code",
   "execution_count": 240,
   "metadata": {},
   "outputs": [],
   "source": [
    "page = 1\n",
    "limit = 2"
   ]
  },
  {
   "cell_type": "code",
   "execution_count": 248,
   "metadata": {},
   "outputs": [],
   "source": [
    "all_ = list(test_collection.find())"
   ]
  },
  {
   "cell_type": "code",
   "execution_count": 268,
   "metadata": {},
   "outputs": [
    {
     "data": {
      "text/plain": [
       "ObjectId('5c55cf1be392f02028db47a2')"
      ]
     },
     "execution_count": 268,
     "metadata": {},
     "output_type": "execute_result"
    }
   ],
   "source": [
    "all_[0]['_id']"
   ]
  },
  {
   "cell_type": "code",
   "execution_count": 262,
   "metadata": {
    "collapsed": true
   },
   "outputs": [
    {
     "name": "stdout",
     "output_type": "stream",
     "text": [
      "----------------------------------------\n",
      "[{'Message': 'discussion was nice so far we have updated you about the new plan that we have in mind.'}, {'Message': 'We have completed the first part of the milestone, plese review it and let us know.'}, {'Message': 'Thank you, we have reviewd the design of the first part of the milestone, but we need to change few things, which is not ok.'}, {'Message': 'We can discuss this over a call tommorrow.'}, {'Message': 'Lets start discussing about the next step of the Milestone'}]\n",
      "----------------------------------------\n",
      "----------------------------------------\n",
      "[{'Message': 'discussion was nice so far we have updated you about the new plan that we have in mind.'}, {'Message': 'We have completed the first part of the milestone, plese review it and let us know.'}, {'Message': 'Thank you, we have reviewd the design of the first part of the milestone, but we need to change few things, which is not ok.'}, {'Message': 'We can discuss this over a call tommorrow.'}, {'Message': 'Lets start discussing about the next step of the Milestone'}]\n",
      "----------------------------------------\n",
      "----------------------------------------\n",
      "[{'Message': 'discussion was nice so far we have updated you about the new plan that we have in mind.'}, {'Message': 'We have completed the first part of the milestone, plese review it and let us know.'}, {'Message': 'Thank you, we have reviewd the design of the first part of the milestone, but we need to change few things, which is not ok.'}, {'Message': 'We can discuss this over a call tommorrow.'}, {'Message': 'Lets start discussing about the next step of the Milestone'}]\n",
      "----------------------------------------\n",
      "----------------------------------------\n",
      "[{'Message': 'discussion was nice so far we have updated you about the new plan that we have in mind.'}, {'Message': 'We have completed the first part of the milestone, plese review it and let us know.'}, {'Message': 'Thank you, we have reviewd the design of the first part of the milestone, but we need to change few things, which is not ok.'}, {'Message': 'We can discuss this over a call tommorrow.'}, {'Message': 'Lets start discussing about the next step of the Milestone'}]\n",
      "----------------------------------------\n",
      "----------------------------------------\n",
      "[{'Message': 'discussion was nice so far we have updated you about the new plan that we have in mind.'}, {'Message': 'We have completed the first part of the milestone, plese review it and let us know.'}, {'Message': 'Thank you, we have reviewd the design of the first part of the milestone, but we need to change few things, which is not ok.'}, {'Message': 'We can discuss this over a call tommorrow.'}, {'Message': 'Lets start discussing about the next step of the Milestone'}]\n",
      "----------------------------------------\n",
      "----------------------------------------\n",
      "[{'Message': 'discussion was nice so far we have updated you about the new plan that we have in mind.'}, {'Message': 'We have completed the first part of the milestone, plese review it and let us know.'}, {'Message': 'Thank you, we have reviewd the design of the first part of the milestone, but we need to change few things, which is not ok.'}, {'Message': 'We can discuss this over a call tommorrow.'}, {'Message': 'Lets start discussing about the next step of the Milestone'}]\n",
      "----------------------------------------\n",
      "----------------------------------------\n",
      "[{'Message': 'discussion was nice so far we have updated you about the new plan that we have in mind.'}, {'Message': 'We have completed the first part of the milestone, plese review it and let us know.'}, {'Message': 'Thank you, we have reviewd the design of the first part of the milestone, but we need to change few things, which is not ok.'}, {'Message': 'We can discuss this over a call tommorrow.'}, {'Message': 'Lets start discussing about the next step of the Milestone'}]\n",
      "----------------------------------------\n",
      "----------------------------------------\n",
      "[{'Message': 'discussion was nice so far we have updated you about the new plan that we have in mind.'}, {'Message': 'We have completed the first part of the milestone, plese review it and let us know.'}, {'Message': 'Thank you, we have reviewd the design of the first part of the milestone, but we need to change few things, which is not ok.'}, {'Message': 'We can discuss this over a call tommorrow.'}, {'Message': 'Lets start discussing about the next step of the Milestone'}]\n",
      "----------------------------------------\n",
      "----------------------------------------\n",
      "[{'Message': 'discussion was nice so far we have updated you about the new plan that we have in mind.'}, {'Message': 'We have completed the first part of the milestone, plese review it and let us know.'}, {'Message': 'Thank you, we have reviewd the design of the first part of the milestone, but we need to change few things, which is not ok.'}, {'Message': 'We can discuss this over a call tommorrow.'}, {'Message': 'Lets start discussing about the next step of the Milestone'}]\n",
      "----------------------------------------\n",
      "----------------------------------------\n",
      "[{'Message': 'discussion was nice so far we have updated you about the new plan that we have in mind.'}, {'Message': 'We have completed the first part of the milestone, plese review it and let us know.'}, {'Message': 'Thank you, we have reviewd the design of the first part of the milestone, but we need to change few things, which is not ok.'}, {'Message': 'We can discuss this over a call tommorrow.'}, {'Message': 'Lets start discussing about the next step of the Milestone'}]\n",
      "----------------------------------------\n",
      "----------------------------------------\n",
      "[{'Message': 'discussion was nice so far we have updated you about the new plan that we have in mind.'}, {'Message': 'We have completed the first part of the milestone, plese review it and let us know.'}, {'Message': 'Thank you, we have reviewd the design of the first part of the milestone, but we need to change few things, which is not ok.'}, {'Message': 'We can discuss this over a call tommorrow.'}, {'Message': 'Lets start discussing about the next step of the Milestone'}]\n",
      "----------------------------------------\n",
      "----------------------------------------\n",
      "[{'Message': 'discussion was nice so far we have updated you about the new plan that we have in mind.'}, {'Message': 'We have completed the first part of the milestone, plese review it and let us know.'}, {'Message': 'Thank you, we have reviewd the design of the first part of the milestone, but we need to change few things, which is not ok.'}, {'Message': 'We can discuss this over a call tommorrow.'}, {'Message': 'Lets start discussing about the next step of the Milestone'}]\n",
      "----------------------------------------\n",
      "----------------------------------------\n",
      "[{'Message': 'discussion was nice so far we have updated you about the new plan that we have in mind.'}, {'Message': 'We have completed the first part of the milestone, plese review it and let us know.'}, {'Message': 'Thank you, we have reviewd the design of the first part of the milestone, but we need to change few things, which is not ok.'}, {'Message': 'We can discuss this over a call tommorrow.'}, {'Message': 'Lets start discussing about the next step of the Milestone'}]\n",
      "----------------------------------------\n",
      "----------------------------------------\n",
      "[{'Message': 'discussion was nice so far we have updated you about the new plan that we have in mind.'}, {'Message': 'We have completed the first part of the milestone, plese review it and let us know.'}, {'Message': 'Thank you, we have reviewd the design of the first part of the milestone, but we need to change few things, which is not ok.'}, {'Message': 'We can discuss this over a call tommorrow.'}, {'Message': 'Lets start discussing about the next step of the Milestone'}]\n",
      "----------------------------------------\n",
      "----------------------------------------\n",
      "[{'Message': 'discussion was nice so far we have updated you about the new plan that we have in mind.'}, {'Message': 'We have completed the first part of the milestone, plese review it and let us know.'}, {'Message': 'Thank you, we have reviewd the design of the first part of the milestone, but we need to change few things, which is not ok.'}, {'Message': 'We can discuss this over a call tommorrow.'}, {'Message': 'Lets start discussing about the next step of the Milestone'}]\n",
      "----------------------------------------\n",
      "----------------------------------------\n",
      "[{'Message': 'discussion was nice so far we have updated you about the new plan that we have in mind.'}, {'Message': 'We have completed the first part of the milestone, plese review it and let us know.'}, {'Message': 'Thank you, we have reviewd the design of the first part of the milestone, but we need to change few things, which is not ok.'}, {'Message': 'We can discuss this over a call tommorrow.'}, {'Message': 'Lets start discussing about the next step of the Milestone'}]\n",
      "----------------------------------------\n"
     ]
    }
   ],
   "source": [
    "for i in range(0,test_collection.count_documents({})):\n",
    "    res = list(test_collection.find({'_id' : {'$gt' : last_id}},{'_id':0,'Message':1}).limit(5))\n",
    "    print('----------------------------------------')\n",
    "    print(res)\n",
    "    print('----------------------------------------')"
   ]
  },
  {
   "cell_type": "code",
   "execution_count": 252,
   "metadata": {},
   "outputs": [
    {
     "data": {
      "text/plain": [
       "False"
      ]
     },
     "execution_count": 252,
     "metadata": {},
     "output_type": "execute_result"
    }
   ],
   "source": [
    "all_[0]['_id'] > all_[1]['_id']"
   ]
  },
  {
   "cell_type": "code",
   "execution_count": null,
   "metadata": {},
   "outputs": [],
   "source": []
  }
 ],
 "metadata": {
  "kernelspec": {
   "display_name": "Python 3",
   "language": "python",
   "name": "python3"
  },
  "language_info": {
   "codemirror_mode": {
    "name": "ipython",
    "version": 3
   },
   "file_extension": ".py",
   "mimetype": "text/x-python",
   "name": "python",
   "nbconvert_exporter": "python",
   "pygments_lexer": "ipython3",
   "version": "3.5.6"
  }
 },
 "nbformat": 4,
 "nbformat_minor": 2
}
